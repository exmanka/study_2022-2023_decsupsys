{
 "cells": [
  {
   "cell_type": "code",
   "execution_count": 1,
   "id": "7d30ca20",
   "metadata": {},
   "outputs": [],
   "source": [
    "import numpy as np\n",
    "import copy\n",
    "\n",
    "matrix = np.array(\n",
    "    [[4.0, 0.0, 3.0, 8.0, 11.0],\n",
    "     [6.0, 9.0, 1.0, 4.0, 3.0],\n",
    "     [2.0, 3.0, 4.0, 3.0, 7.0],\n",
    "     [2.0, 11.0, 5.0, 0.0, 4.0],\n",
    "     [11.0, 5.0, 7.0, 3.0, 1.0]])\n",
    "p = [0.3, 0.19, 0.0, 0.05, 0.46]\n",
    "q = [0.0, 0.28, 0.27, 0.42, 0.04]"
   ]
  },
  {
   "cell_type": "code",
   "execution_count": 2,
   "id": "698a07a1",
   "metadata": {},
   "outputs": [],
   "source": [
    "matrix  = np.array([[0.0, 0.5, 0.8],[1.0,0.75,0.5]])\n",
    "q=[0.25, 0.0, 0.75]\n",
    "p=[0.37, 0.63]"
   ]
  },
  {
   "cell_type": "code",
   "execution_count": 16,
   "id": "f7a259e7",
   "metadata": {},
   "outputs": [
    {
     "name": "stdout",
     "output_type": "stream",
     "text": [
      "0.5 0.75\n",
      "[[0.      0.      0.222  ]\n",
      " [0.1575  0.      0.23625]]\n",
      "0.0 0.0\n",
      "H(P, Q) = 0.61575\n",
      "[0.6000000000000001, 0.625]\n",
      "[0.63, 0.6575, 0.611]\n"
     ]
    }
   ],
   "source": [
    "maxmin = max(matrix.min(axis=1))\n",
    "minmax = min(matrix.max(axis=0))\n",
    "print(maxmin, minmax)\n",
    "\n",
    "h = 0\n",
    "matrix_prob = np.copy(matrix)\n",
    "# for i,k in zip(matrix,p)\n",
    "#     strat = [d*k for d in i]\n",
    "for i in range(len(matrix_prob)):\n",
    "    for j in range(len(matrix_prob[i])):\n",
    "        matrix_prob[i][j] *= p[i] * q[j]\n",
    "        h += matrix_prob[i][j]\n",
    "        \n",
    "print(matrix_prob)\n",
    "maxmin_prob = max(matrix_prob.min(axis=1))\n",
    "minmax_prob = min(matrix_prob.max(axis=0))\n",
    "print(maxmin_prob, minmax_prob)\n",
    "print(\"H(P, Q) =\", h)\n",
    "\n",
    "h_b = [0] * len(matrix[0])\n",
    "h_a = [0] * len(matrix)\n",
    "if maxmin == minmax:\n",
    "    print(\"Есть седловая точка:\", maxmin)\n",
    "else:\n",
    "    for i in range(len(matrix)):\n",
    "        for j in range(len(matrix[i])):\n",
    "            h_a[i] += matrix[i][j] * q[j]\n",
    "            h_b[j] += matrix[i][j] * p[i]\n",
    "\n",
    "print(h_a)\n",
    "print(h_b)"
   ]
  },
  {
   "cell_type": "code",
   "execution_count": 4,
   "id": "739780a4",
   "metadata": {},
   "outputs": [
    {
     "name": "stdout",
     "output_type": "stream",
     "text": [
      "1\n",
      "[0.8 0.5]\n",
      "[0.37, 0.63]\n",
      "2\n",
      "[0.5  0.75]\n",
      "[0.37, 0.63]\n",
      "3\n",
      "[0. 1.]\n",
      "[0.37, 0.63]\n",
      "Ответ выйгрыш игрока А в ситуации H(P,Q) = 0.61575\n",
      "Ответ выйгрыш игрока А в ситуации H(P,B1) = 0.611\n",
      "Ответ выйгрыш игрока А в ситуации H(P,B2) = 0.6575\n",
      "Ответ выйгрыш игрока А в ситуации H(P,B3) = 0.63\n"
     ]
    }
   ],
   "source": [
    "matrix  = np.array([[0, 0.5, 0.8],[1,0.75,0.5]])\n",
    "q=[0.25,0,0.75]\n",
    "p=[0.37, 0.63]\n",
    "answer = {}\n",
    "\n",
    "lower_price = max([min(x) for x in matrix])\n",
    "upper_price = min([max(x) for x in np.rot90(matrix)])\n",
    "if lower_price==upper_price:print(\"седловая точка есть\", f\"ответ v={lower_price}\")\n",
    "else:\n",
    "  buff=0\n",
    "  for i,pin in zip(matrix,p):\n",
    "    buff+=pin*sum([x*y for x,y in zip(i,q)])\n",
    "  answer[\"H(P,Q)\"]=buff\n",
    "  for k, i  in enumerate(np.rot90(matrix),1):\n",
    "    print(k)\n",
    "    print(i)\n",
    "    print(p)\n",
    "    answer[\"H(P,B{})\".format(k)]=sum([x*y for x,y in zip(i,p)])\n",
    "for i in [(x,y) for x,y in answer.items()]:\n",
    "  print(\"Ответ выйгрыш игрока А в ситуации {0[0]} = {0[1]}\".format(i))"
   ]
  },
  {
   "cell_type": "code",
   "execution_count": 5,
   "id": "4215f6f9",
   "metadata": {},
   "outputs": [],
   "source": [
    "from scipy.optimize import linprog\n",
    "from pulp import *\n",
    "import time"
   ]
  },
  {
   "cell_type": "code",
   "execution_count": 6,
   "id": "6597a513",
   "metadata": {},
   "outputs": [
    {
     "name": "stdout",
     "output_type": "stream",
     "text": [
      "           con: array([0., 0., 0.])\n",
      " crossover_nit: 0\n",
      "         eqlin:  marginals: array([3., 4., 1.])\n",
      "  residual: array([0., 0., 0.])\n",
      "           fun: 198.0\n",
      "       ineqlin:  marginals: array([-0., -0., -2.])\n",
      "  residual: array([35., 20.,  0.])\n",
      "         lower:  marginals: array([ 4.,  0.,  5.,  0.,  4.,  0.,  0.,  4., 10.])\n",
      "  residual: array([ 0., 20.,  0.,  9.,  0., 36., 30.,  0.,  0.])\n",
      "       message: 'Optimization terminated successfully. (HiGHS Status 7: Optimal)'\n",
      "           nit: 4\n",
      "         slack: array([35., 20.,  0.])\n",
      "        status: 0\n",
      "       success: True\n",
      "         upper:  marginals: array([0., 0., 0., 0., 0., 0., 0., 0., 0.])\n",
      "  residual: array([inf, inf, inf, inf, inf, inf, inf, inf, inf])\n",
      "             x: array([ 0., 20.,  0.,  9.,  0., 36., 30.,  0.,  0.])\n",
      "0.006014585494995117\n"
     ]
    }
   ],
   "source": [
    "start = time.time()\n",
    "c = [7, 3, 6, 4, 8, 2, 1, 5, 9]\n",
    "a_ub = [[1, 0, 0, 1, 0, 0, 1, 0, 0], [0, 1, 0, 0, 1, 0, 0, 1, 0], [0, 0, 1, 0, 0, 1, 0, 0, 1]]\n",
    "b_ub = [74, 40, 36]\n",
    "a_eq = [[1, 1, 1, 0, 0, 0, 0, 0, 0], [0, 0, 0, 1, 1, 1, 0, 0, 0], [0, 0, 0, 0, 0, 0, 1, 1, 1]]\n",
    "b_eq = [20, 45, 30]\n",
    "print(linprog(c, a_ub, b_ub, a_eq, b_eq))\n",
    "stop = time.time()\n",
    "print(stop - start)"
   ]
  },
  {
   "cell_type": "code",
   "execution_count": 7,
   "id": "9d253c3f",
   "metadata": {},
   "outputs": [
    {
     "name": "stdout",
     "output_type": "stream",
     "text": [
      "           con: array([0., 0., 0.])\n",
      " crossover_nit: 0\n",
      "         eqlin:  marginals: array([1., 3., 2.])\n",
      "  residual: array([0., 0., 0.])\n",
      "           fun: 215.0\n",
      "       ineqlin:  marginals: array([-0., -0., -0.])\n",
      "  residual: array([29., 10., 16.])\n",
      "         lower:  marginals: array([6., 0., 4., 3., 5., 0., 0., 2., 7.])\n",
      "  residual: array([ 0., 45.,  0.,  0.,  0., 30., 20.,  0.,  0.])\n",
      "       message: 'Optimization terminated successfully. (HiGHS Status 7: Optimal)'\n",
      "           nit: 3\n",
      "         slack: array([29., 10., 16.])\n",
      "        status: 0\n",
      "       success: True\n",
      "         upper:  marginals: array([0., 0., 0., 0., 0., 0., 0., 0., 0.])\n",
      "  residual: array([inf, inf, inf, inf, inf, inf, inf, inf, inf])\n",
      "             x: array([ 0., 45.,  0.,  0.,  0., 30., 20.,  0.,  0.])\n",
      "0.004010677337646484\n"
     ]
    }
   ],
   "source": [
    "start = time.time()\n",
    "c = [7, 3, 6, 4, 8, 2, 1, 5, 9]\n",
    "a_ub = [[1, 1, 1, 0, 0, 0, 0, 0, 0], [0, 0, 0, 1, 1, 1, 0, 0, 0], [0, 0, 0, 0, 0, 0, 1, 1, 1]]\n",
    "b_ub = [74, 40, 36]\n",
    "a_eq = [[1, 0, 0, 1, 0, 0, 1, 0, 0], [0, 1, 0, 0, 1, 0, 0, 1, 0], [0, 0, 1, 0, 0, 1, 0, 0, 1]]\n",
    "b_eq = [20, 45, 30]\n",
    "print(linprog(c, a_ub, b_ub, a_eq, b_eq))\n",
    "stop = time.time()\n",
    "print(stop - start)"
   ]
  },
  {
   "cell_type": "code",
   "execution_count": 8,
   "id": "1521f019",
   "metadata": {},
   "outputs": [
    {
     "name": "stdout",
     "output_type": "stream",
     "text": [
      "Result: \n",
      "x1  =  0.0\n",
      "x2  =  20.0\n",
      "x3  =  0.0\n",
      "x4  =  9.0\n",
      "x5  =  0.0\n",
      "x6  =  36.0\n",
      "x7  =  30.0\n",
      "x8  =  0.0\n",
      "x9  =  0.0\n",
      "Стоимость доставки: \n",
      "198.0\n"
     ]
    }
   ],
   "source": [
    "x1=pulp.LpVariable(\"x1\", lowBound=0)\n",
    "x2=pulp.LpVariable(\"x2\", lowBound=0)\n",
    "x3=pulp.LpVariable(\"x3\", lowBound=0)\n",
    "x4=pulp.LpVariable(\"x4\", lowBound=0)\n",
    "x5=pulp.LpVariable(\"x5\", lowBound=0)\n",
    "x6=pulp.LpVariable(\"x6\", lowBound=0)\n",
    "x7=pulp.LpVariable(\"x7\", lowBound=0)\n",
    "x8=pulp.LpVariable(\"x8\", lowBound=0)\n",
    "x9=pulp.LpVariable(\"x9\", lowBound=0)\n",
    "\n",
    "problem = pulp.LpProblem(\"0\", LpMaximize)\n",
    "problem += -7*x1-3*x2-6*x3-4*x4-8*x5-2*x6-1*x7-5*x8-9*x9, \"Функция цели\"\n",
    "problem += x1+x2+x3 == 20 # поставщик\n",
    "problem += x4+x5+x6 == 45 # поставщик\n",
    "problem += x7+x8+x9 == 30 # поставщик\n",
    "\n",
    "problem += x1+x4+x7 <= 74 # потребитель\n",
    "problem += x2+x5+x8 <= 40 # потребитель\n",
    "problem += x3+x6+x9 <= 36 # потребитель\n",
    "\n",
    "problem.solve()\n",
    "print(\"Result: \")\n",
    "for variable in problem.variables():\n",
    "  print(variable.name , \" = \", variable.varValue)\n",
    "print(\"Стоимость доставки: \")\n",
    "print(abs(value(problem.objective)))"
   ]
  },
  {
   "cell_type": "code",
   "execution_count": 9,
   "id": "c6c5d9ab",
   "metadata": {},
   "outputs": [
    {
     "name": "stdout",
     "output_type": "stream",
     "text": [
      "Result: \n",
      "x1  =  0.0\n",
      "x2  =  45.0\n",
      "x3  =  0.0\n",
      "x4  =  0.0\n",
      "x5  =  0.0\n",
      "x6  =  30.0\n",
      "x7  =  20.0\n",
      "x8  =  0.0\n",
      "x9  =  0.0\n",
      "Стоимость доставки: \n",
      "215.0\n"
     ]
    }
   ],
   "source": [
    "x1=pulp.LpVariable(\"x1\", lowBound=0)\n",
    "x2=pulp.LpVariable(\"x2\", lowBound=0)\n",
    "x3=pulp.LpVariable(\"x3\", lowBound=0)\n",
    "x4=pulp.LpVariable(\"x4\", lowBound=0)\n",
    "x5=pulp.LpVariable(\"x5\", lowBound=0)\n",
    "x6=pulp.LpVariable(\"x6\", lowBound=0)\n",
    "x7=pulp.LpVariable(\"x7\", lowBound=0)\n",
    "x8=pulp.LpVariable(\"x8\", lowBound=0)\n",
    "x9=pulp.LpVariable(\"x9\", lowBound=0)\n",
    "\n",
    "problem = pulp.LpProblem(\"0\", LpMaximize)\n",
    "problem += -7*x1-3*x2-6*x3-4*x4-8*x5-2*x6-1*x7-5*x8-9*x9, \"Функция цели\"\n",
    "problem += x1+x2+x3 <= 74 #поставщик\n",
    "problem += x4+x5+x6 <= 40 #поставщик\n",
    "problem += x7+x8+x9 <= 36 #поставщик\n",
    "\n",
    "problem += x1+x4+x7 == 20#потребитель\n",
    "problem += x2+x5+x8 == 45#потребитель\n",
    "problem += x3+x6+x9 == 30#потребитель\n",
    "\n",
    "problem.solve()\n",
    "print(\"Result: \")\n",
    "for variable in problem.variables():\n",
    "  print(variable.name , \" = \", variable.varValue)\n",
    "print(\"Стоимость доставки: \")\n",
    "print(abs(value(problem.objective)))"
   ]
  },
  {
   "cell_type": "code",
   "execution_count": 14,
   "id": "780a4d62",
   "metadata": {},
   "outputs": [
    {
     "name": "stdout",
     "output_type": "stream",
     "text": [
      "Result: [ 0.00e+00]\n",
      "[ 2.00e+01]\n",
      "[ 0.00e+00]\n",
      "[ 9.00e+00]\n",
      "[ 0.00e+00]\n",
      "[ 3.60e+01]\n",
      "[ 3.00e+01]\n",
      "[ 0.00e+00]\n",
      "[ 0.00e+00]\n",
      "\n",
      "Price: 198.0\n",
      "0.017044544219970703\n"
     ]
    }
   ],
   "source": [
    "from cvxopt.modeling import variable, op\n",
    "start = time.time()\n",
    "x = variable(9, \"x\")\n",
    "z = (7*x[0]+3*x[1]+6*x[2]+4*x[3]+8*x[4]+2*x[5]+1*x[6]+5*x[7]+9*x[8])\n",
    "mass1 =(x[0]+x[3]+x[6]<=74)\n",
    "mass2 =(x[1]+x[4]+x[7]<=40)\n",
    "mass3 =(x[2]+x[5]+x[8]<=36)\n",
    "mass4 =(x[0]+x[1]+x[2]==20)\n",
    "mass5 =(x[3]+x[4]+x[5]==45)\n",
    "mass6 =(x[6]+x[7]+x[8]==30)\n",
    "x_non_negative = (x>=0)\n",
    "problem = op(z,[mass1,mass2,mass3,mass4,mass5,mass6,x_non_negative])\n",
    "problem.solve(solver=\"glpk\")\n",
    "problem.status\n",
    "print(\"Result: {}\".format(x.value))\n",
    "print(\"Price: {}\".format(problem.objective.value()[0]))\n",
    "stop = time.time()\n",
    "print(stop-start)"
   ]
  },
  {
   "cell_type": "code",
   "execution_count": 15,
   "id": "bacca662",
   "metadata": {},
   "outputs": [
    {
     "name": "stdout",
     "output_type": "stream",
     "text": [
      "Result: [ 0.00e+00]\n",
      "[ 4.50e+01]\n",
      "[ 0.00e+00]\n",
      "[ 0.00e+00]\n",
      "[ 0.00e+00]\n",
      "[ 3.00e+01]\n",
      "[ 2.00e+01]\n",
      "[ 0.00e+00]\n",
      "[ 0.00e+00]\n",
      "\n",
      "Price: 215.0\n",
      "0.0050127506256103516\n"
     ]
    }
   ],
   "source": [
    "start = time.time()\n",
    "x = variable(9, \"x\")\n",
    "z = (7*x[0]+3*x[1]+6*x[2]+4*x[3]+8*x[4]+2*x[5]+1*x[6]+5*x[7]+9*x[8])\n",
    "mass1 =(x[0]+x[1]+x[2]<=74)\n",
    "mass2 =(x[3]+x[4]+x[5]<=40)\n",
    "mass3 =(x[6]+x[7]+x[8]<=36)\n",
    "mass4 =(x[0]+x[3]+x[6]==20)\n",
    "mass5 =(x[1]+x[4]+x[7]==45)\n",
    "mass6 =(x[2]+x[5]+x[8]==30)\n",
    "x_non_negative = (x>=0)\n",
    "problem = op(z,[mass1,mass2,mass3,mass4,mass5,mass6,x_non_negative])\n",
    "problem.solve(solver=\"glpk\")\n",
    "problem.status\n",
    "print(\"Result: {}\".format(x.value))\n",
    "print(\"Price: {}\".format(problem.objective.value()[0]))\n",
    "stop = time.time()\n",
    "print(stop-start)"
   ]
  },
  {
   "cell_type": "markdown",
   "id": "5a5829eb",
   "metadata": {},
   "source": [
    "22. Вариант  \n",
    "    200 300 200 300 100  \n",
    "100 2 3 4 5 1  \n",
    "200 2 4 2 6 7  \n",
    "300 6 5 4 5 4  \n",
    "400 4 6 7 6 9  \n",
    "400 5 7 6 9 8"
   ]
  },
  {
   "cell_type": "code",
   "execution_count": 12,
   "id": "76640aab",
   "metadata": {},
   "outputs": [
    {
     "name": "stdout",
     "output_type": "stream",
     "text": [
      "[100, 0, 0, 0, 0]\n",
      "[100, 100, 0, 0, 0]\n",
      "[0, 200, 100, 0, 0]\n",
      "[0, 0, 100, 300, 0]\n",
      "[0, 0, 0, 0, 100]\n",
      "\n",
      "5500\n"
     ]
    }
   ],
   "source": [
    "price_matrix = [[2, 3, 4, 5, 1],\n",
    "                [2, 4, 2, 6, 7],\n",
    "                [6, 5, 4, 5, 4],\n",
    "                [4, 6, 7, 6, 9],\n",
    "                [5, 7, 6, 9, 8]]\n",
    "\n",
    "aa = [100, 200, 300, 400, 400]\n",
    "bb = [200, 300, 200, 300, 100]\n",
    "\n",
    "xx = [[0] * len(price_matrix[0]) for i in range(len(price_matrix))]\n",
    "price = 0\n",
    "\n",
    "for i in range(len(price_matrix)):\n",
    "    for j in range(len(price_matrix[i])):\n",
    "        if aa[i] == 0 or bb[j] == 0:\n",
    "            continue\n",
    "        if aa[i] > bb[j]:\n",
    "            aa[i] -= bb[j]\n",
    "            xx[i][j] += bb[j]\n",
    "            bb[j] = 0\n",
    "        else:\n",
    "            bb[j] -= aa[i]\n",
    "            xx[i][j] += aa[i]\n",
    "            aa[i] = 0\n",
    "        price += xx[i][j] * price_matrix[i][j]\n",
    "\n",
    "print(*xx, sep='\\n', end='\\n\\n')\n",
    "print(price)"
   ]
  },
  {
   "cell_type": "code",
   "execution_count": 13,
   "id": "0f0fbd9d",
   "metadata": {},
   "outputs": [
    {
     "name": "stdout",
     "output_type": "stream",
     "text": [
      "[0, 0, 0, 0, 100]\n",
      "[200, 0, 0, 0, 0]\n",
      "[0, 100, 200, 0, 0]\n",
      "[0, 200, 0, 200, 0]\n",
      "[0, 0, 0, 100, 0]\n",
      "\n",
      "[None, None, None, None, None]\n",
      "[None, None, None, None, None]\n",
      "[None, None, None, None, None]\n",
      "[None, None, None, None, None]\n",
      "[None, None, None, None, None]\n",
      "\n",
      "5100\n"
     ]
    }
   ],
   "source": [
    "import copy\n",
    "\n",
    "\n",
    "def find_min(current_matrix):\n",
    "    min = 1e6\n",
    "    i_ = 0\n",
    "    j_ = 0\n",
    "    for i in range(len(current_matrix)):\n",
    "        for j in range(len(current_matrix[i])):\n",
    "            if current_matrix[i][j] is None:\n",
    "                continue\n",
    "            if current_matrix[i][j] < min:\n",
    "                min = current_matrix[i][j]\n",
    "                i_ = i\n",
    "                j_ = j\n",
    "\n",
    "    return i_, j_\n",
    "\n",
    "\n",
    "price_matrix = [[2, 3, 4, 5, 1],\n",
    "                [2, 4, 2, 6, 7],\n",
    "                [6, 5, 4, 5, 4],\n",
    "                [4, 6, 7, 6, 9],\n",
    "                [5, 7, 6, 9, 8]]\n",
    "\n",
    "aa = [100, 200, 300, 400, 400]\n",
    "bb = [200, 300, 200, 300, 100]\n",
    "\n",
    "xx = [[0] * len(price_matrix[0]) for i in range(len(price_matrix))]\n",
    "help_matrix = copy.deepcopy(price_matrix)\n",
    "price = 0\n",
    "\n",
    "for k in range(len(price_matrix) * len(price_matrix[0])):\n",
    "    i, j = find_min(help_matrix)\n",
    "    help_matrix[i][j] = None\n",
    "    if aa[i] == 0 or bb[j] == 0:\n",
    "        continue\n",
    "    if aa[i] > bb[j]:\n",
    "        aa[i] -= bb[j]\n",
    "        xx[i][j] += bb[j]\n",
    "        bb[j] = 0\n",
    "    else:\n",
    "        bb[j] -= aa[i]\n",
    "        xx[i][j] += aa[i]\n",
    "        aa[i] = 0\n",
    "    price += xx[i][j] * price_matrix[i][j]\n",
    "\n",
    "print(*xx, sep='\\n', end='\\n\\n')\n",
    "print(*help_matrix, sep='\\n', end='\\n\\n')\n",
    "print(price)"
   ]
  },
  {
   "cell_type": "code",
   "execution_count": null,
   "id": "5f23d9b6",
   "metadata": {},
   "outputs": [],
   "source": []
  }
 ],
 "metadata": {
  "kernelspec": {
   "display_name": "Python 3 (ipykernel)",
   "language": "python",
   "name": "python3"
  },
  "language_info": {
   "codemirror_mode": {
    "name": "ipython",
    "version": 3
   },
   "file_extension": ".py",
   "mimetype": "text/x-python",
   "name": "python",
   "nbconvert_exporter": "python",
   "pygments_lexer": "ipython3",
   "version": "3.9.15"
  }
 },
 "nbformat": 4,
 "nbformat_minor": 5
}
