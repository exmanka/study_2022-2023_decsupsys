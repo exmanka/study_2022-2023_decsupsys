{
 "cells": [
  {
   "cell_type": "code",
   "execution_count": null,
   "metadata": {
    "id": "OmphAcjKSMhI"
   },
   "outputs": [],
   "source": [
    "1. Вариант\n",
    "  10 10 25 25 30\n",
    "10 1  5  7  9  3\n",
    "20 4  6  4  7 13\n",
    "10 1  5  3  4  9\n",
    "30 2  4  2  10 3\n",
    "10 3  2  5  6  4 \n"
   ]
  },
  {
   "cell_type": "code",
   "execution_count": null,
   "metadata": {
    "id": "cV3-aG1GTbVY"
   },
   "outputs": [],
   "source": [
    "2. Вариант\n",
    "    100 200 200 300 200\n",
    "100 4 3 5 2 3\n",
    "200 7 1 2 3 1\n",
    "300 9 2 4 5 6\n",
    "100 1 3 6 4 10\n",
    "200 5 8 15 6 15 \n"
   ]
  },
  {
   "cell_type": "code",
   "execution_count": null,
   "metadata": {
    "id": "2s-IIpXAThWV"
   },
   "outputs": [],
   "source": [
    "3. Вариант\n",
    "    200 400 100 200 100\n",
    "200 1 7 12 2 5\n",
    "100 2 3 8 4 7\n",
    "200 3 5 4 6 9\n",
    "400 4 4 3 8 2\n",
    "400 5 3 7 10 1 "
   ]
  },
  {
   "cell_type": "code",
   "execution_count": null,
   "metadata": {
    "id": "e4brC2L6Tk8U"
   },
   "outputs": [],
   "source": [
    "3. Вариант\n",
    "   5 10 15 15 15\n",
    "10 2 5 5 6 7\n",
    "5 4 3 4 4 3\n",
    "5 5 2 3 6 2\n",
    "10 3 6 5 7 8\n",
    "15 1 9 7 6 4 "
   ]
  },
  {
   "cell_type": "code",
   "execution_count": null,
   "metadata": {
    "id": "Fiby5rLdTouj"
   },
   "outputs": [],
   "source": [
    "4. Вариант\n",
    "   10 30 30 30 40\n",
    "10 3 1 3 4 3\n",
    "30 5 1 2 2 6\n",
    "60 2 3 4 1 1\n",
    "10 6 2 5 3 2\n",
    "60 3 7 4 4 1"
   ]
  },
  {
   "cell_type": "code",
   "execution_count": null,
   "metadata": {
    "id": "aVBXu9ArTopn"
   },
   "outputs": [],
   "source": [
    "5. Вариант\n",
    "   20 20 40 40 40\n",
    "20 4 5 2 4 3\n",
    "40 3 1 3 5 2\n",
    "80 2 7 6 8 6\n",
    "40 3 3 1 4 9\n",
    "20 1 6 9 2 7 "
   ]
  },
  {
   "cell_type": "code",
   "execution_count": null,
   "metadata": {
    "id": "eoRwlR6fTwFm"
   },
   "outputs": [],
   "source": [
    "6. Вариант\n",
    "   50 100 100 200 200\n",
    "50 1 4 5 6 1\n",
    "100 2 2 2 5 5\n",
    "150 3 6 8 3 4\n",
    "200 4 7 9 4 8\n",
    "100 5 2 2 7 9"
   ]
  },
  {
   "cell_type": "code",
   "execution_count": null,
   "metadata": {
    "id": "gkAt3WGPTwPy"
   },
   "outputs": [],
   "source": [
    "7. Вариант\n",
    "    200 200 300 300 100\n",
    "300 4 6 3 4 1\n",
    "200 7 3 5 2 2\n",
    "100 5 3 2 4 4\n",
    "100 2 3 4 6 5\n",
    "200 1 4 4 3 3 "
   ]
  },
  {
   "cell_type": "code",
   "execution_count": null,
   "metadata": {
    "id": "xw9be_BKTwS1"
   },
   "outputs": [],
   "source": [
    "8. Вариант\n",
    "    200 400 400 300 500\n",
    "200 1 6 9 3 4\n",
    "400 3 2 2 4 5\n",
    "600 4 5 4 7 6\n",
    "200 1 4 3 9 8\n",
    "200 7 9 7 1 9 "
   ]
  },
  {
   "cell_type": "code",
   "execution_count": null,
   "metadata": {
    "id": "-LGNvLllULZ_"
   },
   "outputs": [],
   "source": [
    "9. Вариант\n",
    "    100 300 300 300 600\n",
    "300 4 2 2 5 3\n",
    "600 3 3 4 5 5\n",
    "100 1 2 3 4 6\n",
    "300 2 6 1 1 8\n",
    "600 3 4 5 5 9 "
   ]
  },
  {
   "cell_type": "code",
   "execution_count": null,
   "metadata": {
    "id": "a-5u83vCULdI"
   },
   "outputs": [],
   "source": [
    "10. Вариант\n",
    "   40 60 40 60 20\n",
    "20 3 3 4 2 3\n",
    "40 1 2 1 5 3\n",
    "60 4 8 2 9 12\n",
    "40 5 7 9 6 5\n",
    "20 10 14 17 7 6 "
   ]
  },
  {
   "cell_type": "code",
   "execution_count": null,
   "metadata": {
    "id": "0rZKEeF-ULf8"
   },
   "outputs": [],
   "source": [
    "11. Вариант\n",
    "\n",
    "    300 200 300 100 400\n",
    "300 3 4 3 1 5\n",
    "200 2 3 5 0 8\n",
    "100 1 2 3 3 4\n",
    "200 4 5 7 9 9\n",
    "300 5 6 8 4 7 "
   ]
  },
  {
   "cell_type": "code",
   "execution_count": null,
   "metadata": {
    "id": "C98eSyiuULk0"
   },
   "outputs": [],
   "source": [
    "12. Вариант\n",
    "\n",
    "   20 20 40 10 30\n",
    "20 1 1 3 4 5\n",
    "10 2 3 4 2 6\n",
    "20 1 1 4 7 8\n",
    "30 5 6 3 4 7\n",
    "10 4 5 7 6 4"
   ]
  },
  {
   "cell_type": "code",
   "execution_count": null,
   "metadata": {
    "id": "XfE-hHW-ULoJ"
   },
   "outputs": [],
   "source": [
    "13. Вариант\n",
    "\n",
    "    200 300 400 200 300\n",
    "200 1 3 4 2 5\n",
    "200 1 2 4 1 7\n",
    "300 3 4 5 9 9\n",
    "300 6 3 7 6 8\n",
    "100 5 6 7 3 4"
   ]
  },
  {
   "cell_type": "code",
   "execution_count": null,
   "metadata": {
    "id": "Ig4LSRoPULrT"
   },
   "outputs": [],
   "source": [
    "14. Вариант\n",
    "    300 150 300 150 250\n",
    "150 2 1 3 1 5\n",
    "250 8 3 7 4 6\n",
    "250 6 4 9 3 4\n",
    "150 5 2 1 2 3\n",
    "150 4 6 2 3 4"
   ]
  },
  {
   "cell_type": "code",
   "execution_count": null,
   "metadata": {
    "id": "5Oiqhk1cULuG"
   },
   "outputs": [],
   "source": [
    "15. Вариант\n",
    "\n",
    "   50 50 100 100 50\n",
    "50 3 4 6 5 13\n",
    "50 6 3 7 6 10\n",
    "100 10 5 2 2 6\n",
    "150 9 4 4 9 5\n",
    "100 3 2 4 2 3 "
   ]
  },
  {
   "cell_type": "code",
   "execution_count": null,
   "metadata": {
    "id": "py9JmFreUgPj"
   },
   "outputs": [],
   "source": [
    "16. Вариант\n",
    "\n",
    "    200 200 400 200 100\n",
    "200 5 2 1 6 4\n",
    "300 6 2 4 4 6\n",
    "200 9 2 3 7 5\n",
    "200 7 3 5 8 7\n",
    "100 3 2 4 2 3"
   ]
  },
  {
   "cell_type": "code",
   "execution_count": null,
   "metadata": {
    "id": "MRuVW4XLUgSz"
   },
   "outputs": [],
   "source": [
    "17. Вариант\n",
    "   100 150 150 100 300\n",
    "50 3 4 5 4 1\n",
    "100 1 2 7 1 5\n",
    "150 4 6 6 3 7\n",
    "100 2 7 4 7 2\n",
    "200 3 8 9 4 5  "
   ]
  },
  {
   "cell_type": "code",
   "execution_count": null,
   "metadata": {
    "id": "bd28X6mcUgYf"
   },
   "outputs": [],
   "source": [
    "18. Вариант\n",
    "    400 600 500 400 500\n",
    "400 1 2 3 1 2\n",
    "500 3 4 2 4 5\n",
    "600 5 7 6 3 9\n",
    "400 4 10 15 4 8\n",
    "200 3 4 5 3 7 "
   ]
  },
  {
   "cell_type": "code",
   "execution_count": null,
   "metadata": {
    "id": "0zNCH3o9U65J"
   },
   "outputs": [],
   "source": [
    "19. Вариант\n",
    "   100 150 150 100 100\n",
    "50 3 4 5 4 6\n",
    "100 1 5 7 1 5\n",
    "150 4 6 6 3 4\n",
    "100 2 7 4 7 2\n",
    "100 1 9 6 3 2"
   ]
  },
  {
   "cell_type": "code",
   "execution_count": null,
   "metadata": {
    "id": "gw5_H-GiU67U"
   },
   "outputs": [],
   "source": [
    "20. Вариант\n",
    "    500 250 500 750 500\n",
    "250 3 1 8 1 4\n",
    "500 2 5 2 3 5\n",
    "750 9 4 6 5 7\n",
    "250 7 3 10 3 2\n",
    "500 6 6 4 7 8\n"
   ]
  },
  {
   "cell_type": "code",
   "execution_count": null,
   "metadata": {
    "id": "rrH6vNmmU697"
   },
   "outputs": [],
   "source": [
    "21. Вариант\n",
    "    100 100 200 200 300\n",
    "300 1 2 3 4 8\n",
    "200 4 5 6 2 6\n",
    "100 1 1 3 4 5\n",
    "200 3 3 2 2 7\n",
    "300 5 6 7 8 10 \n"
   ]
  },
  {
   "cell_type": "code",
   "execution_count": null,
   "metadata": {
    "id": "BJiAtjZ4U7AX"
   },
   "outputs": [],
   "source": [
    "22. Вариант\n",
    "    200 300 200 300 100\n",
    "100 2 3 4 5 1\n",
    "200 2 4 2 6 7\n",
    "300 6 5 4 5 4\n",
    "400 4 6 7 6 9\n",
    "400 5 7 6 9 8\n"
   ]
  },
  {
   "cell_type": "code",
   "execution_count": null,
   "metadata": {
    "id": "-gBYUspfU7DE"
   },
   "outputs": [],
   "source": [
    "23. Вариант\n",
    "   50 150 200 150 100\n",
    "50 4 5 6 10 9\n",
    "100 6 3 8 4 3\n",
    "150 5 1 3 1 7\n",
    "150 7 2 4 2 3\n",
    "100 1 5 7 8 4\n"
   ]
  },
  {
   "cell_type": "code",
   "execution_count": null,
   "metadata": {
    "id": "HO8XvSRIU7Fc"
   },
   "outputs": [],
   "source": [
    "24. Вариант\n",
    "    200 300 200 200 100\n",
    "200 1 5 1 1 5\n",
    "300 4 2 6 7 9\n",
    "100 3 4 5 6 5\n",
    "300 4 2 3 3 6\n",
    "300 6 2 3 5 4 \n"
   ]
  },
  {
   "cell_type": "code",
   "execution_count": null,
   "metadata": {
    "id": "VPSfnYNFU7IN"
   },
   "outputs": [],
   "source": [
    "25. Вариант\n",
    "    100 200 200 100 200\n",
    "100 2 3 4 2 5\n",
    "200 3 1 3 1\n",
    "300 4 3 3 5 4\n",
    "200 5 1 2 6 7\n",
    "100 2 9 8 7 6\n"
   ]
  },
  {
   "cell_type": "code",
   "execution_count": null,
   "metadata": {
    "id": "dylynTZyU7Kn"
   },
   "outputs": [],
   "source": [
    "26. Вариант\n",
    "  11 7 8 4\n",
    "9 2 5 8 1\n",
    "16 8 3 9 2\n",
    "5 7 4 6 3 "
   ]
  },
  {
   "cell_type": "code",
   "execution_count": null,
   "metadata": {
    "id": "AjqxrL1aU7M7"
   },
   "outputs": [],
   "source": [
    "27. Вариант\n",
    "    200 400 400 800\n",
    "200 1 6 9 3\n",
    "400 3 2 2 4\n",
    "600 4 5 4 7\n",
    "200 1 4 3 9 \n"
   ]
  },
  {
   "cell_type": "code",
   "execution_count": null,
   "metadata": {
    "id": "t2M0ykrIU7PM"
   },
   "outputs": [],
   "source": [
    "28. Вариант\n",
    "  10 15 15 10 10\n",
    "5 3 4 5 4 6\n",
    "10 1 5 7 1 5\n",
    "15 4 6 6 3 4\n",
    "10 2 7 4 7 2"
   ]
  },
  {
   "cell_type": "code",
   "execution_count": null,
   "metadata": {
    "id": "OMo4_gwlU7R2"
   },
   "outputs": [],
   "source": [
    "29. Вариант\n",
    "    300 150 300 150\n",
    "150 2 1 3 1\n",
    "250 8 3 7 4\n",
    "250 6 4 9 3\n",
    "150 5 2 4 2 \n"
   ]
  },
  {
   "cell_type": "code",
   "execution_count": null,
   "metadata": {
    "id": "0awdyCNQU7Ui"
   },
   "outputs": [],
   "source": [
    "30. Вариант\n",
    "   20 20 40 40 40\n",
    "20 4 5 2 4 3\n",
    "40 3 1 3 5 2\n",
    "80 2 7 6 8 6\n",
    "40 3 3 1 4 9\n",
    "20 1 6 9 2 7\n"
   ]
  },
  {
   "cell_type": "code",
   "execution_count": null,
   "metadata": {
    "id": "J_v6rJumVK4_"
   },
   "outputs": [],
   "source": [
    "31. Вариант\n",
    "  5 5 10 10 5\n",
    "5 3 4 6 5 13\n",
    "5 6 3 7 6 10\n",
    "10 10 5 2 2 6\n",
    "15 9 4 4 9 5\n",
    "10 4 6 2 3 4 \n",
    "\n"
   ]
  }
 ],
 "metadata": {
  "colab": {
   "authorship_tag": "ABX9TyMbRXONv/7y5xrxe4o2ZRjJ",
   "provenance": []
  },
  "kernelspec": {
   "display_name": "Python 3 (ipykernel)",
   "language": "python",
   "name": "python3"
  },
  "language_info": {
   "codemirror_mode": {
    "name": "ipython",
    "version": 3
   },
   "file_extension": ".py",
   "mimetype": "text/x-python",
   "name": "python",
   "nbconvert_exporter": "python",
   "pygments_lexer": "ipython3",
   "version": "3.9.15"
  }
 },
 "nbformat": 4,
 "nbformat_minor": 1
}
